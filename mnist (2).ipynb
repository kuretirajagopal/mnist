{
  "nbformat": 4,
  "nbformat_minor": 0,
  "metadata": {
    "colab": {
      "provenance": []
    },
    "kernelspec": {
      "name": "python3",
      "display_name": "Python 3"
    },
    "language_info": {
      "name": "python"
    }
  },
  "cells": [
    {
      "cell_type": "code",
      "execution_count": 10,
      "metadata": {
        "colab": {
          "base_uri": "https://localhost:8080/"
        },
        "id": "PZJTaMnjmlN8",
        "outputId": "a91d50fe-5ddc-4deb-c55b-af9dae299b69"
      },
      "outputs": [
        {
          "output_type": "stream",
          "name": "stdout",
          "text": [
            "Epoch 1/10\n",
            "1875/1875 [==============================] - 4s 2ms/step - loss: 0.4691 - accuracy: 0.8770 - val_loss: 0.3064 - val_accuracy: 0.9150\n",
            "Epoch 2/10\n",
            "1875/1875 [==============================] - 6s 3ms/step - loss: 0.3038 - accuracy: 0.9158 - val_loss: 0.2851 - val_accuracy: 0.9215\n",
            "Epoch 3/10\n",
            "1875/1875 [==============================] - 6s 3ms/step - loss: 0.2837 - accuracy: 0.9215 - val_loss: 0.2770 - val_accuracy: 0.9208\n",
            "Epoch 4/10\n",
            "1875/1875 [==============================] - 4s 2ms/step - loss: 0.2729 - accuracy: 0.9235 - val_loss: 0.2702 - val_accuracy: 0.9239\n",
            "Epoch 5/10\n",
            "1875/1875 [==============================] - 5s 3ms/step - loss: 0.2670 - accuracy: 0.9258 - val_loss: 0.2691 - val_accuracy: 0.9235\n",
            "Epoch 6/10\n",
            "1875/1875 [==============================] - 4s 2ms/step - loss: 0.2618 - accuracy: 0.9278 - val_loss: 0.2630 - val_accuracy: 0.9261\n",
            "Epoch 7/10\n",
            "1875/1875 [==============================] - 4s 2ms/step - loss: 0.2584 - accuracy: 0.9281 - val_loss: 0.2650 - val_accuracy: 0.9248\n",
            "Epoch 8/10\n",
            "1875/1875 [==============================] - 5s 3ms/step - loss: 0.2556 - accuracy: 0.9292 - val_loss: 0.2671 - val_accuracy: 0.9263\n",
            "Epoch 9/10\n",
            "1875/1875 [==============================] - 4s 2ms/step - loss: 0.2532 - accuracy: 0.9301 - val_loss: 0.2626 - val_accuracy: 0.9266\n",
            "Epoch 10/10\n",
            "1875/1875 [==============================] - 4s 2ms/step - loss: 0.2509 - accuracy: 0.9310 - val_loss: 0.2702 - val_accuracy: 0.9254\n",
            "313/313 [==============================] - 1s 3ms/step - loss: 0.2702 - accuracy: 0.9254\n",
            "Test accuracy: 0.9254000186920166\n",
            "Model saved as mnist.h5\n"
          ]
        },
        {
          "output_type": "stream",
          "name": "stderr",
          "text": [
            "/usr/local/lib/python3.10/dist-packages/keras/src/engine/training.py:3103: UserWarning: You are saving your model as an HDF5 file via `model.save()`. This file format is considered legacy. We recommend using instead the native Keras format, e.g. `model.save('my_model.keras')`.\n",
            "  saving_api.save_model(\n"
          ]
        }
      ],
      "source": [
        "import tensorflow as tf\n",
        "from tensorflow.keras.models import Sequential\n",
        "from tensorflow.keras.layers import Flatten, Dense\n",
        "\n",
        "# Load the MNIST dataset\n",
        "mnist = tf.keras.datasets.mnist\n",
        "(x_train, y_train), (x_test, y_test) = mnist.load_data()\n",
        "x_train, x_test = x_train / 255.0, x_test / 255.0  # Normalize pixel values\n",
        "\n",
        "# Define a very simple model\n",
        "def lightweight_model(input_shape, num_classes):\n",
        "    model = Sequential([\n",
        "        Flatten(input_shape=input_shape),\n",
        "        Dense(num_classes, activation='softmax')\n",
        "    ])\n",
        "    return model\n",
        "\n",
        "input_shape = x_train[0].shape\n",
        "num_classes = 10\n",
        "\n",
        "# Create and compile the model\n",
        "model = lightweight_model(input_shape, num_classes)\n",
        "model.compile(optimizer='adam',\n",
        "              loss='sparse_categorical_crossentropy',\n",
        "              metrics=['accuracy'])\n",
        "\n",
        "# Train the model\n",
        "model.fit(x_train, y_train, epochs=10, validation_data=(x_test, y_test))\n",
        "\n",
        "# Evaluate the model\n",
        "test_loss, test_acc = model.evaluate(x_test, y_test)\n",
        "print(\"Test accuracy:\", test_acc)\n",
        "\n",
        "# Save the model as .h5 file\n",
        "model.save('mnist.h5')\n",
        "print(\"Model saved as mnist.h5\")"
      ]
    }
  ]
}